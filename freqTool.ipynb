{
 "cells": [
  {
   "cell_type": "code",
   "execution_count": 1,
   "metadata": {},
   "outputs": [
    {
     "data": {
      "text/html": [
       "<script>\n",
       "code_show=true; \n",
       "function code_toggle() {\n",
       " if (code_show){\n",
       " $('div.input').hide();\n",
       " } else {\n",
       " $('div.input').show();\n",
       " }\n",
       " code_show = !code_show\n",
       "} \n",
       "$( document ).ready(code_toggle);\n",
       "</script>\n",
       "Click <a href=\"javascript:code_toggle()\">here</a> to see the code."
      ],
      "text/plain": [
       "<IPython.core.display.HTML object>"
      ]
     },
     "execution_count": 1,
     "metadata": {},
     "output_type": "execute_result"
    }
   ],
   "source": [
    "from IPython.display import HTML\n",
    "HTML('''<script>\n",
    "code_show=true; \n",
    "function code_toggle() {\n",
    " if (code_show){\n",
    " $('div.input').hide();\n",
    " } else {\n",
    " $('div.input').show();\n",
    " }\n",
    " code_show = !code_show\n",
    "} \n",
    "$( document ).ready(code_toggle);\n",
    "</script>\n",
    "Click <a href=\"javascript:code_toggle()\">here</a> to see the code.''')"
   ]
  },
  {
   "cell_type": "code",
   "execution_count": 2,
   "metadata": {},
   "outputs": [],
   "source": [
    "import ipywidgets as ipw\n",
    "import numpy as np\n",
    "import matplotlib.pyplot as plt\n",
    "import matplotlib as mpl\n",
    "plt.style.use('seaborn-poster')\n",
    "\n",
    "from tabulate import tabulate\n",
    "\n",
    "def matProps(mat):\n",
    "    if mat == 'CuNi10':\n",
    "        E = 140e9\n",
    "        nu = 0.35\n",
    "        rho = 8940\n",
    "    elif mat == 'Cu':\n",
    "        E = 110e9\n",
    "        nu = 0.35\n",
    "        rho = 7940\n",
    "    elif mat == 'Al':\n",
    "        E = 69e9\n",
    "        nu = 0.35\n",
    "        rho = 2700\n",
    "    return E, nu, rho\n",
    "\n",
    "def tubeFinParams(config):\n",
    "    if config == 'EK2334':\n",
    "        dx = 23e-3\n",
    "        dy = 34e-3\n",
    "        R = (15e-3)/2\n",
    "        tFin = 0.18e-3\n",
    "        tTube = 0.80e-3\n",
    "    if config == 'EK2334 (VaCN)':\n",
    "        dx = 23e-3\n",
    "        dy = 34e-3\n",
    "        R = (15e-3)/2\n",
    "        tFin = 0.14e-3\n",
    "        tTube = 0.80e-3\n",
    "    if config == 'CK1619':\n",
    "        dx = 16e-3\n",
    "        dy = 19e-3\n",
    "        R = (10.55e-3)/2\n",
    "        tFin = 0.12e-3\n",
    "        tTube = 0.60e-3\n",
    "    if config == 'UCK1212':\n",
    "        dx = 12e-3\n",
    "        dy = 12e-3\n",
    "        R = (7.5e-3)/2\n",
    "        tFin = 0.12e-3\n",
    "        tTube = 0.50e-3\n",
    "    return dx, dy, R, tFin, tTube\n",
    "\n",
    "def paras(tubeMat, finMat, config):\n",
    "    dx, dy, R, tFin, tTube = tubeFinParams(config)\n",
    "    ETube, nuTube, rhoTube = matProps(tubeMat)\n",
    "    EFin, nuFin, rhoFin = matProps(finMat)\n",
    "    return dx, dy, nuTube, R, ETube, rhoFin, rhoTube, tFin, tTube\n",
    "\n",
    "def getFreqs(ETube, nuTube, dx, dy, nRow, nCol, R, rhoTube, rhoFin, tTube, tFin, L, Nf):\n",
    "    GTube = ETube/(2*(1 + nuTube))\n",
    "    betaVals = [4.73004, 7.8532, 10.9956, 14.1372]\n",
    "    x1 = dx/2 - dy**2/(8*dx)\n",
    "    x2 = dx/2 + dy**2/(8*dx)\n",
    "    Rsq = 1/48*nCol*nRow*(4*dx**2*(-1 + nCol**2) +dy**2*(-1 + 4*nRow**2))\n",
    "    aUnit = dy*(x1 + x2) - np.pi*R**2\n",
    "    JUnit = (3*dy**3*x1 + 4*dy*x1**3 + dy**3*x2 + 4*dy*x1**2*x2 + 4*dy*x1*x2**2 + 4*dy*x2**3)/24 - np.pi*R**4/2\n",
    "    aTube = np.pi*(R**2 - (R - tTube)**2)\n",
    "    ITube = np.pi/4*(R**4 - (R - tTube)**4)\n",
    "    JTube = np.pi/2*(R**4 - (R - tTube)**4)\n",
    "    Luc = L/Nf\n",
    "    NTube = nRow*nCol\n",
    "    JTotal = JUnit*NTube + aUnit * Rsq\n",
    "    [A, B, C] = getConstants(1, L)\n",
    "    fT1 = (1/(2*np.pi))*np.sqrt((ETube*ITube*Rsq*B + NTube*GTube*JTube*C)/(A*(rhoTube*aTube*Rsq + JTotal*rhoFin*tFin/Luc)))\n",
    "    [A, B, C] = getConstants(2, L)\n",
    "    fT2 = (1/(2*np.pi))*np.sqrt((ETube*ITube*Rsq*B + NTube*GTube*JTube*C)/(A*(rhoTube*aTube*Rsq + JTotal*rhoFin*tFin/Luc)))\n",
    "    [A, B, C] = getConstants(3, L)\n",
    "    fT3 = (1/(2*np.pi))*np.sqrt((ETube*ITube*Rsq*B + NTube*GTube*JTube*C)/(A*(rhoTube*aTube*Rsq + JTotal*rhoFin*tFin/Luc)))\n",
    "    linearDens = aTube*rhoTube + Nf*aUnit*tFin*rhoFin/L\n",
    "    fBend = np.array(betaVals)**2*np.sqrt(ETube*ITube/(linearDens*L**4))/(2*np.pi)\n",
    "    fTwist = np.array([fT1, fT2, fT3])\n",
    "    return fBend, fTwist\n",
    "\n",
    "def getConstants(i, L):\n",
    "        ABCs = [[0.396478*L,198.462/L**3, 4.87772/L], [7.92282e28*L,3.01347e32/L**3, 3.64847e30/L], [0.50586*L,7394.47/L**3, 50.032/L]]\n",
    "        return ABCs[i-1]"
   ]
  },
  {
   "cell_type": "markdown",
   "metadata": {},
   "source": [
    "***\n",
    "### Bending and Twisting Mode Frequencies\n",
    "<b><font color='#1f77b4'>Bending Mode</font> \n",
    "\n",
    "<font color='#ff7f0e'> Twisting Mode</font></b>"
   ]
  },
  {
   "cell_type": "code",
   "execution_count": 3,
   "metadata": {},
   "outputs": [
    {
     "data": {
      "application/vnd.jupyter.widget-view+json": {
       "model_id": "7c02814fde064867a1dbe7b7bb331385",
       "version_major": 2,
       "version_minor": 0
      },
      "text/plain": [
       "interactive(children=(IntSlider(value=7, description='nRow', max=12, min=2), IntSlider(value=6, description='n…"
      ]
     },
     "metadata": {},
     "output_type": "display_data"
    }
   ],
   "source": [
    "def plotter(nRow, nCol, Nf, L, maxFreq, tubeMat, finMat, config):\n",
    "    dx, dy, nuTube, R, ETube, rhoFin, rhoTube, tFin, tTube = paras(tubeMat, finMat, config)\n",
    "    fBend, fTwist = getFreqs(ETube, nuTube, dx, dy, nRow, nCol, R, rhoTube, rhoFin, tTube, tFin, L, Nf)\n",
    "    f = np.append(fBend, fTwist)\n",
    "    idx = np.argsort(f)\n",
    "    bt = np.array(['C0']*len(fBend) + ['C1']*len(fTwist))\n",
    "    bt = bt[idx]\n",
    "    f = f[idx]\n",
    "    plt.bar(range(len(f)), f, color = bt)\n",
    "    plt.ylabel('Freq (Hz)')\n",
    "    plt.ylim([0, 1000])\n",
    "    plt.xticks([])\n",
    "    plt.plot(plt.xlim(), [maxFreq, maxFreq], color = 'C3' )\n",
    "    plt.show()\n",
    "    freqRounded = ['Freq (Hz): '] + list(int(round(num)) for num in f)\n",
    "    modeType = np.array(['Bend']*len(fBend) + ['Twist']*len(fTwist))\n",
    "    modeType = ['ModeType: '] + list(modeType[idx])\n",
    "    print(tabulate([freqRounded, modeType]))\n",
    "    \n",
    "interactive_plot = ipw.interactive(plotter,\n",
    "                               nRow = (2, 12, 1),\n",
    "                               nCol=(2, 12, 2),\n",
    "                               Nf = (107, 307, 10),\n",
    "                               L = (0.02, 2*0.48, 0.02),\n",
    "                               maxFreq = (0, 300, 10),\n",
    "                               tubeMat = ['CuNi10', 'Cu', 'Al'],\n",
    "                               finMat = ['Cu', 'CuNi10', 'Al'],\n",
    "                               config = ['EK2334', 'EK2334 (VaCN)', 'CK1619', 'UCK1212']\n",
    "                               )\n",
    "display(interactive_plot)"
   ]
  },
  {
   "cell_type": "markdown",
   "metadata": {},
   "source": [
    "### Effect of Fin Thickness on  First Bending Mode and First Twisting Mode"
   ]
  },
  {
   "cell_type": "code",
   "execution_count": 4,
   "metadata": {},
   "outputs": [
    {
     "data": {
      "application/vnd.jupyter.widget-view+json": {
       "model_id": "a63fdc2d916d41e9951ab6d8abb9ba44",
       "version_major": 2,
       "version_minor": 0
      },
      "text/plain": [
       "interactive(children=(IntSlider(value=7, description='nRow', max=12, min=2), IntSlider(value=6, description='n…"
      ]
     },
     "metadata": {},
     "output_type": "display_data"
    }
   ],
   "source": [
    "def thickEffect(nRow, nCol, Nf, L, maxFreq, tubeMat, finMat, config):\n",
    "    dx, dy, nuTube, R, ETube, rhoFin, rhoTube, tFin, tTube = paras(tubeMat, finMat, config)\n",
    "    tFins = np.linspace(0.1, 1.5, 41)*tFin\n",
    "    fB1 = 0*tFins\n",
    "    fT1 = 0*tFins\n",
    "    for i in range(len(tFins)):\n",
    "        fBend, fTwist = getFreqs(ETube, nuTube, dx, dy, nRow, nCol, R, rhoTube, rhoFin, tTube, tFins[i], L, Nf)\n",
    "        fB1[i] = fBend[0]\n",
    "        fT1[i] = fTwist[0]\n",
    "    plt.plot(tFins/tFin, fB1, color = 'C0', linewidth = 6)\n",
    "    plt.plot(tFins/tFin, fT1, color = 'C1', linewidth = 6)\n",
    "    plt.ylabel('Freq (Hz)')\n",
    "\n",
    "    xlabelStr = '$t_\\mathrm{Fin}}$/%1.2f mm' %(tFin*1000)\n",
    "    plt.xlabel(xlabelStr)\n",
    "    plt.ylim([0, 1000])\n",
    "    plt.xticks([0.1, 0.5, 1, 1.5])\n",
    "    plt.xlim([min(tFins/tFin), max(tFins/tFin)])\n",
    "    plt.plot(plt.xlim(), [maxFreq, maxFreq], color = 'C3' )\n",
    "    \n",
    "        \n",
    "interactive_plot2 = ipw.interactive(thickEffect,\n",
    "                               nRow = (2, 12, 1),\n",
    "                               nCol=(2, 12, 2),\n",
    "                               Nf = (107, 307, 10),\n",
    "                               L = (0.02, 2*0.48, 0.02),\n",
    "                               maxFreq = (0, 300, 10),\n",
    "                               tubeMat = ['CuNi10', 'Cu', 'Al'],\n",
    "                               finMat = ['Cu', 'CuNi10', 'Al'],\n",
    "                               config = ['EK2334', 'EK2334 (VaCN)', 'CK1619', 'UCK1212']\n",
    "                               )\n",
    "display(interactive_plot2)"
   ]
  }
 ],
 "metadata": {
  "kernelspec": {
   "display_name": "Python 3",
   "language": "python",
   "name": "python3"
  },
  "language_info": {
   "codemirror_mode": {
    "name": "ipython",
    "version": 3
   },
   "file_extension": ".py",
   "mimetype": "text/x-python",
   "name": "python",
   "nbconvert_exporter": "python",
   "pygments_lexer": "ipython3",
   "version": "3.8.0"
  }
 },
 "nbformat": 4,
 "nbformat_minor": 2
}
